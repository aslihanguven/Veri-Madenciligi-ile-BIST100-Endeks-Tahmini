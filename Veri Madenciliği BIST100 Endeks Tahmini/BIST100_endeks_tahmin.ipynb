{
 "cells": [
  {
   "cell_type": "code",
   "execution_count": 1,
   "id": "e603e9b3",
   "metadata": {},
   "outputs": [
    {
     "name": "stdout",
     "output_type": "stream",
     "text": [
      "Uyarılar kapatıldı\n"
     ]
    }
   ],
   "source": [
    "import pandas as pd \n",
    "import numpy as np\n",
    "import matplotlib.pyplot as plt\n",
    "import warnings\n",
    "warnings.filterwarnings(\"ignore\")\n",
    "print(\"Uyarılar kapatıldı\")"
   ]
  },
  {
   "cell_type": "code",
   "execution_count": 2,
   "id": "6a00d91b",
   "metadata": {
    "scrolled": true
   },
   "outputs": [
    {
     "name": "stdout",
     "output_type": "stream",
     "text": [
      "Requirement already satisfied: dateparser in c:\\programdata\\anaconda3\\lib\\site-packages (1.1.1)\n",
      "Requirement already satisfied: tzlocal in c:\\programdata\\anaconda3\\lib\\site-packages (from dateparser) (4.2)\n",
      "Requirement already satisfied: regex!=2019.02.19,!=2021.8.27,<2022.3.15 in c:\\programdata\\anaconda3\\lib\\site-packages (from dateparser) (2021.8.3)\n",
      "Requirement already satisfied: pytz in c:\\programdata\\anaconda3\\lib\\site-packages (from dateparser) (2021.3)\n",
      "Requirement already satisfied: python-dateutil in c:\\programdata\\anaconda3\\lib\\site-packages (from dateparser) (2.8.2)\n",
      "Requirement already satisfied: six>=1.5 in c:\\users\\kemal\\appdata\\roaming\\python\\python39\\site-packages (from python-dateutil->dateparser) (1.16.0)\n",
      "Requirement already satisfied: tzdata in c:\\programdata\\anaconda3\\lib\\site-packages (from tzlocal->dateparser) (2022.1)\n",
      "Requirement already satisfied: pytz-deprecation-shim in c:\\programdata\\anaconda3\\lib\\site-packages (from tzlocal->dateparser) (0.1.0.post0)\n",
      "Note: you may need to restart the kernel to use updated packages.\n"
     ]
    }
   ],
   "source": [
    "pip install dateparser"
   ]
  },
  {
   "cell_type": "code",
   "execution_count": 3,
   "id": "7e081a94",
   "metadata": {},
   "outputs": [],
   "source": [
    "dateparse = lambda dates: pd.datetime.strptime(dates, '%Y-%m-%d')\n",
    "df=pd.read_csv('veri_seti.csv',sep=',', index_col='Tarih', parse_dates=['Tarih'], date_parser=dateparse).fillna(0)"
   ]
  },
  {
   "cell_type": "code",
   "execution_count": 4,
   "id": "73de7e10",
   "metadata": {},
   "outputs": [
    {
     "data": {
      "text/html": [
       "<div>\n",
       "<style scoped>\n",
       "    .dataframe tbody tr th:only-of-type {\n",
       "        vertical-align: middle;\n",
       "    }\n",
       "\n",
       "    .dataframe tbody tr th {\n",
       "        vertical-align: top;\n",
       "    }\n",
       "\n",
       "    .dataframe thead th {\n",
       "        text-align: right;\n",
       "    }\n",
       "</style>\n",
       "<table border=\"1\" class=\"dataframe\">\n",
       "  <thead>\n",
       "    <tr style=\"text-align: right;\">\n",
       "      <th></th>\n",
       "      <th>acilis</th>\n",
       "      <th>enyuksek</th>\n",
       "      <th>endusuk</th>\n",
       "      <th>kapanis</th>\n",
       "      <th>duzeltilmiskapanis</th>\n",
       "      <th>hacim</th>\n",
       "    </tr>\n",
       "    <tr>\n",
       "      <th>Tarih</th>\n",
       "      <th></th>\n",
       "      <th></th>\n",
       "      <th></th>\n",
       "      <th></th>\n",
       "      <th></th>\n",
       "      <th></th>\n",
       "    </tr>\n",
       "  </thead>\n",
       "  <tbody>\n",
       "    <tr>\n",
       "      <th>2017-06-28</th>\n",
       "      <td>99439.101563</td>\n",
       "      <td>100617.703125</td>\n",
       "      <td>99418.601563</td>\n",
       "      <td>100617.703125</td>\n",
       "      <td>100617.703125</td>\n",
       "      <td>803262400</td>\n",
       "    </tr>\n",
       "    <tr>\n",
       "      <th>2017-06-29</th>\n",
       "      <td>100916.796875</td>\n",
       "      <td>100990.500000</td>\n",
       "      <td>100009.203125</td>\n",
       "      <td>100190.296875</td>\n",
       "      <td>100190.296875</td>\n",
       "      <td>815416000</td>\n",
       "    </tr>\n",
       "    <tr>\n",
       "      <th>2017-06-30</th>\n",
       "      <td>100032.500000</td>\n",
       "      <td>100778.101563</td>\n",
       "      <td>99825.601563</td>\n",
       "      <td>100440.398438</td>\n",
       "      <td>100440.398438</td>\n",
       "      <td>769506300</td>\n",
       "    </tr>\n",
       "    <tr>\n",
       "      <th>2017-07-03</th>\n",
       "      <td>100639.296875</td>\n",
       "      <td>100957.796875</td>\n",
       "      <td>100438.500000</td>\n",
       "      <td>100522.296875</td>\n",
       "      <td>100522.296875</td>\n",
       "      <td>671102000</td>\n",
       "    </tr>\n",
       "    <tr>\n",
       "      <th>2017-07-04</th>\n",
       "      <td>100539.101563</td>\n",
       "      <td>101245.796875</td>\n",
       "      <td>100449.203125</td>\n",
       "      <td>101207.796875</td>\n",
       "      <td>101207.796875</td>\n",
       "      <td>847241900</td>\n",
       "    </tr>\n",
       "  </tbody>\n",
       "</table>\n",
       "</div>"
      ],
      "text/plain": [
       "                   acilis       enyuksek        endusuk        kapanis  \\\n",
       "Tarih                                                                    \n",
       "2017-06-28   99439.101563  100617.703125   99418.601563  100617.703125   \n",
       "2017-06-29  100916.796875  100990.500000  100009.203125  100190.296875   \n",
       "2017-06-30  100032.500000  100778.101563   99825.601563  100440.398438   \n",
       "2017-07-03  100639.296875  100957.796875  100438.500000  100522.296875   \n",
       "2017-07-04  100539.101563  101245.796875  100449.203125  101207.796875   \n",
       "\n",
       "            duzeltilmiskapanis      hacim  \n",
       "Tarih                                      \n",
       "2017-06-28       100617.703125  803262400  \n",
       "2017-06-29       100190.296875  815416000  \n",
       "2017-06-30       100440.398438  769506300  \n",
       "2017-07-03       100522.296875  671102000  \n",
       "2017-07-04       101207.796875  847241900  "
      ]
     },
     "execution_count": 4,
     "metadata": {},
     "output_type": "execute_result"
    }
   ],
   "source": [
    "df.head()"
   ]
  },
  {
   "cell_type": "code",
   "execution_count": 5,
   "id": "4a5c8413",
   "metadata": {},
   "outputs": [
    {
     "name": "stdout",
     "output_type": "stream",
     "text": [
      "<class 'pandas.core.frame.DataFrame'>\n",
      "DatetimeIndex: 1246 entries, 2017-06-28 to 2022-06-23\n",
      "Data columns (total 6 columns):\n",
      " #   Column              Non-Null Count  Dtype  \n",
      "---  ------              --------------  -----  \n",
      " 0   acilis              1246 non-null   float64\n",
      " 1   enyuksek            1246 non-null   float64\n",
      " 2   endusuk             1246 non-null   float64\n",
      " 3   kapanis             1246 non-null   float64\n",
      " 4   duzeltilmiskapanis  1246 non-null   float64\n",
      " 5   hacim               1246 non-null   int64  \n",
      "dtypes: float64(5), int64(1)\n",
      "memory usage: 68.1 KB\n"
     ]
    }
   ],
   "source": [
    "df.info()"
   ]
  },
  {
   "cell_type": "code",
   "execution_count": 6,
   "id": "660ad3c3",
   "metadata": {
    "scrolled": true
   },
   "outputs": [
    {
     "data": {
      "text/plain": [
       "acilis                0\n",
       "enyuksek              0\n",
       "endusuk               0\n",
       "kapanis               0\n",
       "duzeltilmiskapanis    0\n",
       "hacim                 0\n",
       "dtype: int64"
      ]
     },
     "execution_count": 6,
     "metadata": {},
     "output_type": "execute_result"
    }
   ],
   "source": [
    "df.isna().sum()"
   ]
  },
  {
   "cell_type": "code",
   "execution_count": 7,
   "id": "5181ea88",
   "metadata": {
    "scrolled": true
   },
   "outputs": [
    {
     "data": {
      "text/html": [
       "<div>\n",
       "<style scoped>\n",
       "    .dataframe tbody tr th:only-of-type {\n",
       "        vertical-align: middle;\n",
       "    }\n",
       "\n",
       "    .dataframe tbody tr th {\n",
       "        vertical-align: top;\n",
       "    }\n",
       "\n",
       "    .dataframe thead th {\n",
       "        text-align: right;\n",
       "    }\n",
       "</style>\n",
       "<table border=\"1\" class=\"dataframe\">\n",
       "  <thead>\n",
       "    <tr style=\"text-align: right;\">\n",
       "      <th></th>\n",
       "      <th>acilis</th>\n",
       "      <th>enyuksek</th>\n",
       "      <th>endusuk</th>\n",
       "      <th>kapanis</th>\n",
       "      <th>duzeltilmiskapanis</th>\n",
       "      <th>hacim</th>\n",
       "    </tr>\n",
       "    <tr>\n",
       "      <th>Tarih</th>\n",
       "      <th></th>\n",
       "      <th></th>\n",
       "      <th></th>\n",
       "      <th></th>\n",
       "      <th></th>\n",
       "      <th></th>\n",
       "    </tr>\n",
       "  </thead>\n",
       "  <tbody>\n",
       "    <tr>\n",
       "      <th>2017-06-28</th>\n",
       "      <td>99439.101563</td>\n",
       "      <td>100617.703125</td>\n",
       "      <td>99418.601563</td>\n",
       "      <td>100617.703125</td>\n",
       "      <td>100617.703125</td>\n",
       "      <td>803262400</td>\n",
       "    </tr>\n",
       "    <tr>\n",
       "      <th>2017-06-29</th>\n",
       "      <td>100916.796875</td>\n",
       "      <td>100990.500000</td>\n",
       "      <td>100009.203125</td>\n",
       "      <td>100190.296875</td>\n",
       "      <td>100190.296875</td>\n",
       "      <td>815416000</td>\n",
       "    </tr>\n",
       "    <tr>\n",
       "      <th>2017-06-30</th>\n",
       "      <td>100032.500000</td>\n",
       "      <td>100778.101563</td>\n",
       "      <td>99825.601563</td>\n",
       "      <td>100440.398438</td>\n",
       "      <td>100440.398438</td>\n",
       "      <td>769506300</td>\n",
       "    </tr>\n",
       "    <tr>\n",
       "      <th>2017-07-03</th>\n",
       "      <td>100639.296875</td>\n",
       "      <td>100957.796875</td>\n",
       "      <td>100438.500000</td>\n",
       "      <td>100522.296875</td>\n",
       "      <td>100522.296875</td>\n",
       "      <td>671102000</td>\n",
       "    </tr>\n",
       "    <tr>\n",
       "      <th>2017-07-04</th>\n",
       "      <td>100539.101563</td>\n",
       "      <td>101245.796875</td>\n",
       "      <td>100449.203125</td>\n",
       "      <td>101207.796875</td>\n",
       "      <td>101207.796875</td>\n",
       "      <td>847241900</td>\n",
       "    </tr>\n",
       "  </tbody>\n",
       "</table>\n",
       "</div>"
      ],
      "text/plain": [
       "                   acilis       enyuksek        endusuk        kapanis  \\\n",
       "Tarih                                                                    \n",
       "2017-06-28   99439.101563  100617.703125   99418.601563  100617.703125   \n",
       "2017-06-29  100916.796875  100990.500000  100009.203125  100190.296875   \n",
       "2017-06-30  100032.500000  100778.101563   99825.601563  100440.398438   \n",
       "2017-07-03  100639.296875  100957.796875  100438.500000  100522.296875   \n",
       "2017-07-04  100539.101563  101245.796875  100449.203125  101207.796875   \n",
       "\n",
       "            duzeltilmiskapanis      hacim  \n",
       "Tarih                                      \n",
       "2017-06-28       100617.703125  803262400  \n",
       "2017-06-29       100190.296875  815416000  \n",
       "2017-06-30       100440.398438  769506300  \n",
       "2017-07-03       100522.296875  671102000  \n",
       "2017-07-04       101207.796875  847241900  "
      ]
     },
     "execution_count": 7,
     "metadata": {},
     "output_type": "execute_result"
    }
   ],
   "source": [
    "df.head()"
   ]
  },
  {
   "cell_type": "code",
   "execution_count": 8,
   "id": "29e60c3d",
   "metadata": {},
   "outputs": [
    {
     "data": {
      "image/png": "[encoded data removed]",
      "text/plain": [
       "<Figure size 720x432 with 1 Axes>"
      ]
     },
     "metadata": {
      "needs_background": "light"
     },
     "output_type": "display_data"
    }
   ],
   "source": [
    "plt.figure(figsize=(10,6)) \n",
    "plt.plot(df.kapanis)  \n",
    "plt.show()"
   ]
  },
  {
   "cell_type": "code",
   "execution_count": 9,
   "id": "ede21d05",
   "metadata": {},
   "outputs": [],
   "source": [
    "df.drop('duzeltilmiskapanis',axis=1, inplace=True)"
   ]
  },
  {
   "cell_type": "code",
   "execution_count": 10,
   "id": "df311980",
   "metadata": {},
   "outputs": [
    {
     "data": {
      "text/html": [
       "<div>\n",
       "<style scoped>\n",
       "    .dataframe tbody tr th:only-of-type {\n",
       "        vertical-align: middle;\n",
       "    }\n",
       "\n",
       "    .dataframe tbody tr th {\n",
       "        vertical-align: top;\n",
       "    }\n",
       "\n",
       "    .dataframe thead th {\n",
       "        text-align: right;\n",
       "    }\n",
       "</style>\n",
       "<table border=\"1\" class=\"dataframe\">\n",
       "  <thead>\n",
       "    <tr style=\"text-align: right;\">\n",
       "      <th></th>\n",
       "      <th>acilis</th>\n",
       "      <th>enyuksek</th>\n",
       "      <th>endusuk</th>\n",
       "      <th>kapanis</th>\n",
       "      <th>hacim</th>\n",
       "    </tr>\n",
       "    <tr>\n",
       "      <th>Tarih</th>\n",
       "      <th></th>\n",
       "      <th></th>\n",
       "      <th></th>\n",
       "      <th></th>\n",
       "      <th></th>\n",
       "    </tr>\n",
       "  </thead>\n",
       "  <tbody>\n",
       "    <tr>\n",
       "      <th>2017-06-28</th>\n",
       "      <td>99439.101563</td>\n",
       "      <td>100617.703125</td>\n",
       "      <td>99418.601563</td>\n",
       "      <td>100617.703125</td>\n",
       "      <td>803262400</td>\n",
       "    </tr>\n",
       "    <tr>\n",
       "      <th>2017-06-29</th>\n",
       "      <td>100916.796875</td>\n",
       "      <td>100990.500000</td>\n",
       "      <td>100009.203125</td>\n",
       "      <td>100190.296875</td>\n",
       "      <td>815416000</td>\n",
       "    </tr>\n",
       "    <tr>\n",
       "      <th>2017-06-30</th>\n",
       "      <td>100032.500000</td>\n",
       "      <td>100778.101563</td>\n",
       "      <td>99825.601563</td>\n",
       "      <td>100440.398438</td>\n",
       "      <td>769506300</td>\n",
       "    </tr>\n",
       "    <tr>\n",
       "      <th>2017-07-03</th>\n",
       "      <td>100639.296875</td>\n",
       "      <td>100957.796875</td>\n",
       "      <td>100438.500000</td>\n",
       "      <td>100522.296875</td>\n",
       "      <td>671102000</td>\n",
       "    </tr>\n",
       "    <tr>\n",
       "      <th>2017-07-04</th>\n",
       "      <td>100539.101563</td>\n",
       "      <td>101245.796875</td>\n",
       "      <td>100449.203125</td>\n",
       "      <td>101207.796875</td>\n",
       "      <td>847241900</td>\n",
       "    </tr>\n",
       "  </tbody>\n",
       "</table>\n",
       "</div>"
      ],
      "text/plain": [
       "                   acilis       enyuksek        endusuk        kapanis  \\\n",
       "Tarih                                                                    \n",
       "2017-06-28   99439.101563  100617.703125   99418.601563  100617.703125   \n",
       "2017-06-29  100916.796875  100990.500000  100009.203125  100190.296875   \n",
       "2017-06-30  100032.500000  100778.101563   99825.601563  100440.398438   \n",
       "2017-07-03  100639.296875  100957.796875  100438.500000  100522.296875   \n",
       "2017-07-04  100539.101563  101245.796875  100449.203125  101207.796875   \n",
       "\n",
       "                hacim  \n",
       "Tarih                  \n",
       "2017-06-28  803262400  \n",
       "2017-06-29  815416000  \n",
       "2017-06-30  769506300  \n",
       "2017-07-03  671102000  \n",
       "2017-07-04  847241900  "
      ]
     },
     "execution_count": 10,
     "metadata": {},
     "output_type": "execute_result"
    }
   ],
   "source": [
    "df.head()"
   ]
  },
  {
   "cell_type": "code",
   "execution_count": 11,
   "id": "dff12bee",
   "metadata": {},
   "outputs": [],
   "source": [
    "df['avaraj'] = (df['acilis'] + df['enyuksek'] + df['endusuk'] + df['kapanis']+ df['hacim']) / 5"
   ]
  },
  {
   "cell_type": "code",
   "execution_count": 12,
   "id": "159d303d",
   "metadata": {},
   "outputs": [
    {
     "data": {
      "text/html": [
       "<div>\n",
       "<style scoped>\n",
       "    .dataframe tbody tr th:only-of-type {\n",
       "        vertical-align: middle;\n",
       "    }\n",
       "\n",
       "    .dataframe tbody tr th {\n",
       "        vertical-align: top;\n",
       "    }\n",
       "\n",
       "    .dataframe thead th {\n",
       "        text-align: right;\n",
       "    }\n",
       "</style>\n",
       "<table border=\"1\" class=\"dataframe\">\n",
       "  <thead>\n",
       "    <tr style=\"text-align: right;\">\n",
       "      <th></th>\n",
       "      <th>acilis</th>\n",
       "      <th>enyuksek</th>\n",
       "      <th>endusuk</th>\n",
       "      <th>kapanis</th>\n",
       "      <th>hacim</th>\n",
       "      <th>avaraj</th>\n",
       "    </tr>\n",
       "    <tr>\n",
       "      <th>Tarih</th>\n",
       "      <th></th>\n",
       "      <th></th>\n",
       "      <th></th>\n",
       "      <th></th>\n",
       "      <th></th>\n",
       "      <th></th>\n",
       "    </tr>\n",
       "  </thead>\n",
       "  <tbody>\n",
       "    <tr>\n",
       "      <th>2017-06-28</th>\n",
       "      <td>99439.101563</td>\n",
       "      <td>100617.703125</td>\n",
       "      <td>99418.601563</td>\n",
       "      <td>100617.703125</td>\n",
       "      <td>803262400</td>\n",
       "      <td>1.607325e+08</td>\n",
       "    </tr>\n",
       "    <tr>\n",
       "      <th>2017-06-29</th>\n",
       "      <td>100916.796875</td>\n",
       "      <td>100990.500000</td>\n",
       "      <td>100009.203125</td>\n",
       "      <td>100190.296875</td>\n",
       "      <td>815416000</td>\n",
       "      <td>1.631636e+08</td>\n",
       "    </tr>\n",
       "    <tr>\n",
       "      <th>2017-06-30</th>\n",
       "      <td>100032.500000</td>\n",
       "      <td>100778.101563</td>\n",
       "      <td>99825.601563</td>\n",
       "      <td>100440.398438</td>\n",
       "      <td>769506300</td>\n",
       "      <td>1.539815e+08</td>\n",
       "    </tr>\n",
       "    <tr>\n",
       "      <th>2017-07-03</th>\n",
       "      <td>100639.296875</td>\n",
       "      <td>100957.796875</td>\n",
       "      <td>100438.500000</td>\n",
       "      <td>100522.296875</td>\n",
       "      <td>671102000</td>\n",
       "      <td>1.343009e+08</td>\n",
       "    </tr>\n",
       "    <tr>\n",
       "      <th>2017-07-04</th>\n",
       "      <td>100539.101563</td>\n",
       "      <td>101245.796875</td>\n",
       "      <td>100449.203125</td>\n",
       "      <td>101207.796875</td>\n",
       "      <td>847241900</td>\n",
       "      <td>1.695291e+08</td>\n",
       "    </tr>\n",
       "  </tbody>\n",
       "</table>\n",
       "</div>"
      ],
      "text/plain": [
       "                   acilis       enyuksek        endusuk        kapanis  \\\n",
       "Tarih                                                                    \n",
       "2017-06-28   99439.101563  100617.703125   99418.601563  100617.703125   \n",
       "2017-06-29  100916.796875  100990.500000  100009.203125  100190.296875   \n",
       "2017-06-30  100032.500000  100778.101563   99825.601563  100440.398438   \n",
       "2017-07-03  100639.296875  100957.796875  100438.500000  100522.296875   \n",
       "2017-07-04  100539.101563  101245.796875  100449.203125  101207.796875   \n",
       "\n",
       "                hacim        avaraj  \n",
       "Tarih                                \n",
       "2017-06-28  803262400  1.607325e+08  \n",
       "2017-06-29  815416000  1.631636e+08  \n",
       "2017-06-30  769506300  1.539815e+08  \n",
       "2017-07-03  671102000  1.343009e+08  \n",
       "2017-07-04  847241900  1.695291e+08  "
      ]
     },
     "execution_count": 12,
     "metadata": {},
     "output_type": "execute_result"
    }
   ],
   "source": [
    "df.head()"
   ]
  },
  {
   "cell_type": "code",
   "execution_count": 13,
   "id": "0c0506ad",
   "metadata": {},
   "outputs": [],
   "source": [
    "df['sonraki_ay']=df['kapanis'].shift(-30) "
   ]
  },
  {
   "cell_type": "code",
   "execution_count": 14,
   "id": "33721596",
   "metadata": {},
   "outputs": [
    {
     "data": {
      "text/html": [
       "<div>\n",
       "<style scoped>\n",
       "    .dataframe tbody tr th:only-of-type {\n",
       "        vertical-align: middle;\n",
       "    }\n",
       "\n",
       "    .dataframe tbody tr th {\n",
       "        vertical-align: top;\n",
       "    }\n",
       "\n",
       "    .dataframe thead th {\n",
       "        text-align: right;\n",
       "    }\n",
       "</style>\n",
       "<table border=\"1\" class=\"dataframe\">\n",
       "  <thead>\n",
       "    <tr style=\"text-align: right;\">\n",
       "      <th></th>\n",
       "      <th>acilis</th>\n",
       "      <th>enyuksek</th>\n",
       "      <th>endusuk</th>\n",
       "      <th>kapanis</th>\n",
       "      <th>hacim</th>\n",
       "      <th>avaraj</th>\n",
       "      <th>sonraki_ay</th>\n",
       "    </tr>\n",
       "    <tr>\n",
       "      <th>Tarih</th>\n",
       "      <th></th>\n",
       "      <th></th>\n",
       "      <th></th>\n",
       "      <th></th>\n",
       "      <th></th>\n",
       "      <th></th>\n",
       "      <th></th>\n",
       "    </tr>\n",
       "  </thead>\n",
       "  <tbody>\n",
       "    <tr>\n",
       "      <th>2022-06-17</th>\n",
       "      <td>2491.500000</td>\n",
       "      <td>2533.300049</td>\n",
       "      <td>2485.800049</td>\n",
       "      <td>2533.300049</td>\n",
       "      <td>2651804000</td>\n",
       "      <td>5.303628e+08</td>\n",
       "      <td>NaN</td>\n",
       "    </tr>\n",
       "    <tr>\n",
       "      <th>2022-06-20</th>\n",
       "      <td>2549.000000</td>\n",
       "      <td>2555.100098</td>\n",
       "      <td>2511.300049</td>\n",
       "      <td>2539.199951</td>\n",
       "      <td>2620212300</td>\n",
       "      <td>5.240445e+08</td>\n",
       "      <td>NaN</td>\n",
       "    </tr>\n",
       "    <tr>\n",
       "      <th>2022-06-21</th>\n",
       "      <td>2557.100098</td>\n",
       "      <td>2582.199951</td>\n",
       "      <td>2550.800049</td>\n",
       "      <td>2575.899902</td>\n",
       "      <td>2721684000</td>\n",
       "      <td>5.443389e+08</td>\n",
       "      <td>NaN</td>\n",
       "    </tr>\n",
       "    <tr>\n",
       "      <th>2022-06-22</th>\n",
       "      <td>2572.199951</td>\n",
       "      <td>2586.899902</td>\n",
       "      <td>2552.100098</td>\n",
       "      <td>2574.300049</td>\n",
       "      <td>2424694900</td>\n",
       "      <td>4.849410e+08</td>\n",
       "      <td>NaN</td>\n",
       "    </tr>\n",
       "    <tr>\n",
       "      <th>2022-06-23</th>\n",
       "      <td>2576.100098</td>\n",
       "      <td>2588.699951</td>\n",
       "      <td>2533.899902</td>\n",
       "      <td>2543.199951</td>\n",
       "      <td>2624314200</td>\n",
       "      <td>5.248649e+08</td>\n",
       "      <td>NaN</td>\n",
       "    </tr>\n",
       "  </tbody>\n",
       "</table>\n",
       "</div>"
      ],
      "text/plain": [
       "                 acilis     enyuksek      endusuk      kapanis       hacim  \\\n",
       "Tarih                                                                        \n",
       "2022-06-17  2491.500000  2533.300049  2485.800049  2533.300049  2651804000   \n",
       "2022-06-20  2549.000000  2555.100098  2511.300049  2539.199951  2620212300   \n",
       "2022-06-21  2557.100098  2582.199951  2550.800049  2575.899902  2721684000   \n",
       "2022-06-22  2572.199951  2586.899902  2552.100098  2574.300049  2424694900   \n",
       "2022-06-23  2576.100098  2588.699951  2533.899902  2543.199951  2624314200   \n",
       "\n",
       "                  avaraj  sonraki_ay  \n",
       "Tarih                                 \n",
       "2022-06-17  5.303628e+08         NaN  \n",
       "2022-06-20  5.240445e+08         NaN  \n",
       "2022-06-21  5.443389e+08         NaN  \n",
       "2022-06-22  4.849410e+08         NaN  \n",
       "2022-06-23  5.248649e+08         NaN  "
      ]
     },
     "execution_count": 14,
     "metadata": {},
     "output_type": "execute_result"
    }
   ],
   "source": [
    "df.tail()"
   ]
  },
  {
   "cell_type": "code",
   "execution_count": 24,
   "id": "4d812054",
   "metadata": {},
   "outputs": [],
   "source": [
    "from sklearn import preprocessing\n",
    "df.dropna(inplace=True)\n",
    "X=df.drop('sonraki_ay',axis=1)\n",
    "X=preprocessing.scale(X)\n",
    "y=df['sonraki_ay']"
   ]
  },
  {
   "cell_type": "code",
   "execution_count": 25,
   "id": "8b4a41d3",
   "metadata": {},
   "outputs": [],
   "source": [
    "\n",
    "from sklearn.model_selection import train_test_split\n",
    "X_train, X_test, y_train, y_test = train_test_split(X,y, test_size=0.25, random_state=1)"
   ]
  },
  {
   "cell_type": "code",
   "execution_count": 30,
   "id": "80545cde",
   "metadata": {},
   "outputs": [
    {
     "name": "stdout",
     "output_type": "stream",
     "text": [
      "Accuracy is: 96.3539 %\n"
     ]
    }
   ],
   "source": [
    "from sklearn.ensemble import RandomForestRegressor\n",
    "reg=RandomForestRegressor(random_state=1)\n",
    "reg.fit(X_train,y_train)\n",
    "accuracy=reg.score(X_test,y_test)\n",
    "accuracy=accuracy*100\n",
    "accuracy = float(\"{0:.4f}\".format(accuracy))\n",
    "print('Accuracy is:',accuracy,'%')"
   ]
  },
  {
   "cell_type": "code",
   "execution_count": 31,
   "id": "4dca8434",
   "metadata": {},
   "outputs": [
    {
     "name": "stdout",
     "output_type": "stream",
     "text": [
      "Accuracy is: 90.44 %\n"
     ]
    }
   ],
   "source": [
    "from sklearn.linear_model import LinearRegression\n",
    "lr=LinearRegression()\n",
    "lr.fit(X_train,y_train)\n",
    "accuracy=lr.score(X_test,y_test)\n",
    "accuracy=accuracy*100\n",
    "accuracy = float(\"{0:.4f}\".format(accuracy))\n",
    "print('Accuracy is:',accuracy,'%')"
   ]
  },
  {
   "cell_type": "code",
   "execution_count": 32,
   "id": "acec57de",
   "metadata": {},
   "outputs": [
    {
     "name": "stdout",
     "output_type": "stream",
     "text": [
      "Accuracy is: 96.989 %\n"
     ]
    }
   ],
   "source": [
    "from lightgbm import LGBMRegressor\n",
    "lgbm=LGBMRegressor()\n",
    "lgbm.fit(X_train,y_train)\n",
    "accuracy=lgbm.score(X_test,y_test)\n",
    "accuracy=accuracy*100\n",
    "accuracy = float(\"{0:.4f}\".format(accuracy))\n",
    "print('Accuracy is:',accuracy,'%')"
   ]
  },
  {
   "cell_type": "code",
   "execution_count": 33,
   "id": "e51a42b8",
   "metadata": {},
   "outputs": [
    {
     "name": "stdout",
     "output_type": "stream",
     "text": [
      "Accuracy is: 96.8935 %\n"
     ]
    }
   ],
   "source": [
    "from sklearn.ensemble import GradientBoostingRegressor\n",
    "gb=GradientBoostingRegressor()\n",
    "gb.fit(X_train,y_train)\n",
    "accuracy=gb.score(X_test,y_test)\n",
    "accuracy=accuracy*100\n",
    "accuracy = float(\"{0:.4f}\".format(accuracy))\n",
    "print('Accuracy is:',accuracy,'%')"
   ]
  },
  {
   "cell_type": "code",
   "execution_count": null,
   "id": "0cf5a466",
   "metadata": {},
   "outputs": [],
   "source": []
  },
  {
   "cell_type": "code",
   "execution_count": null,
   "id": "67b0255e",
   "metadata": {},
   "outputs": [],
   "source": []
  },
  {
   "cell_type": "code",
   "execution_count": null,
   "id": "067c308a",
   "metadata": {},
   "outputs": [],
   "source": []
  },
  {
   "cell_type": "code",
   "execution_count": null,
   "id": "78393fdc",
   "metadata": {},
   "outputs": [],
   "source": []
  }
 ],
 "metadata": {
  "kernelspec": {
   "display_name": "Python 3 (ipykernel)",
   "language": "python",
   "name": "python3"
  },
  "language_info": {
   "codemirror_mode": {
    "name": "ipython",
    "version": 3
   },
   "file_extension": ".py",
   "mimetype": "text/x-python",
   "name": "python",
   "nbconvert_exporter": "python",
   "pygments_lexer": "ipython3",
   "version": "3.9.7"
  }
 },
 "nbformat": 4,
 "nbformat_minor": 5
}
